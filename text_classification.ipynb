{
 "cells": [
  {
   "cell_type": "code",
   "execution_count": 1,
   "metadata": {},
   "outputs": [],
   "source": [
    "from transformers import pipeline\n",
    "import matplotlib.pyplot as plt\n",
    "import seaborn as sns\n"
   ]
  },
  {
   "cell_type": "code",
   "execution_count": 2,
   "metadata": {},
   "outputs": [],
   "source": [
    "class ZeroShortClassifier:\n",
    "    def __init__(self,task,llm_model) -> None:\n",
    "        self.task=task\n",
    "        self.model=llm_model\n",
    "        self.classifier=pipeline(task=self.task,model=self.model)\n",
    "\n",
    "    def classify_text(self,text,candidate_labels):\n",
    "        return self.classifier(text,candidate_labels)    \n"
   ]
  },
  {
   "cell_type": "code",
   "execution_count": 3,
   "metadata": {},
   "outputs": [],
   "source": [
    "task = \"zero-shot-classification\"\n",
    "llm_model = \"facebook/bart-large-mnli\"\n",
    "zero_short_classifier=ZeroShortClassifier(task,llm_model) \n"
   ]
  },
  {
   "cell_type": "code",
   "execution_count": 4,
   "metadata": {},
   "outputs": [],
   "source": [
    "text = \"One day I will see the world\"\n",
    "candidate_labels = [\"travel\", \"cooking\", \"dancing\", \"adventure\"]\n"
   ]
  },
  {
   "cell_type": "code",
   "execution_count": 5,
   "metadata": {},
   "outputs": [],
   "source": [
    "result=zero_short_classifier.classify_text(text,candidate_labels)"
   ]
  },
  {
   "cell_type": "code",
   "execution_count": 6,
   "metadata": {},
   "outputs": [
    {
     "data": {
      "text/plain": [
       "{'sequence': 'One day I will see the world',\n",
       " 'labels': ['travel', 'adventure', 'dancing', 'cooking'],\n",
       " 'scores': [0.8609201908111572,\n",
       "  0.13397161662578583,\n",
       "  0.0027073342353105545,\n",
       "  0.00240084039978683]}"
      ]
     },
     "execution_count": 6,
     "metadata": {},
     "output_type": "execute_result"
    }
   ],
   "source": [
    "result"
   ]
  },
  {
   "cell_type": "code",
   "execution_count": null,
   "metadata": {},
   "outputs": [],
   "source": []
  }
 ],
 "metadata": {
  "kernelspec": {
   "display_name": "venv_ZSL",
   "language": "python",
   "name": "python3"
  },
  "language_info": {
   "codemirror_mode": {
    "name": "ipython",
    "version": 3
   },
   "file_extension": ".py",
   "mimetype": "text/x-python",
   "name": "python",
   "nbconvert_exporter": "python",
   "pygments_lexer": "ipython3",
   "version": "3.11.8"
  }
 },
 "nbformat": 4,
 "nbformat_minor": 2
}
